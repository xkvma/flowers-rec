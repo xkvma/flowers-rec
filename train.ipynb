{
 "cells": [
  {
   "cell_type": "markdown",
   "id": "925e5e7d-3b49-4f05-9fc0-6be4bae18c14",
   "metadata": {},
   "source": [
    "# Flower classification model training notebook\n",
    "In this notebook we finetune a model to classify flowers"
   ]
  },
  {
   "cell_type": "markdown",
   "id": "28827596-713a-4905-8090-9db5ad78d33c",
   "metadata": {
    "tags": []
   },
   "source": [
    "# 1. Download and prepare Data"
   ]
  },
  {
   "cell_type": "code",
   "execution_count": null,
   "id": "f5aeda0c-2dc3-43be-8469-fb6f0ffc1e7b",
   "metadata": {},
   "outputs": [],
   "source": []
  },
  {
   "cell_type": "code",
   "execution_count": null,
   "id": "b356d1b7-1839-4d4e-a048-f18a42645381",
   "metadata": {},
   "outputs": [],
   "source": []
  },
  {
   "cell_type": "code",
   "execution_count": null,
   "id": "de15848c-95fa-45dc-8a5f-979b0ab456d7",
   "metadata": {},
   "outputs": [],
   "source": []
  },
  {
   "cell_type": "code",
   "execution_count": null,
   "id": "085363f8-1d9a-4f71-b517-bcda5f36ea02",
   "metadata": {},
   "outputs": [],
   "source": []
  },
  {
   "cell_type": "markdown",
   "id": "7e72fe72-a562-4944-8a90-8c584b5e00d2",
   "metadata": {
    "tags": []
   },
   "source": [
    "# 2. Train models"
   ]
  },
  {
   "cell_type": "code",
   "execution_count": null,
   "id": "5f2b7c52-4d0d-426d-b71b-9df3c504aa5c",
   "metadata": {},
   "outputs": [],
   "source": []
  },
  {
   "cell_type": "code",
   "execution_count": null,
   "id": "93d056aa-e011-4e24-b695-2fbb27b31d7c",
   "metadata": {},
   "outputs": [],
   "source": []
  },
  {
   "cell_type": "code",
   "execution_count": null,
   "id": "437436aa-9d7a-4178-96f1-82319624587e",
   "metadata": {},
   "outputs": [],
   "source": []
  },
  {
   "cell_type": "code",
   "execution_count": null,
   "id": "fffcd3c6-1f9f-4ea5-afb2-9ab3d5192baa",
   "metadata": {},
   "outputs": [],
   "source": []
  },
  {
   "cell_type": "code",
   "execution_count": null,
   "id": "f97c5474-e095-4501-8001-cc607f810178",
   "metadata": {},
   "outputs": [],
   "source": []
  },
  {
   "cell_type": "markdown",
   "id": "bda9befc-4eb4-4078-aba2-98095851c074",
   "metadata": {},
   "source": [
    "# 3. Similarity Search"
   ]
  },
  {
   "cell_type": "code",
   "execution_count": null,
   "id": "202741a2-05bb-40dd-bcf3-10136bffede8",
   "metadata": {},
   "outputs": [],
   "source": []
  },
  {
   "cell_type": "code",
   "execution_count": null,
   "id": "fa0934f7-1d2c-481c-8994-9b59a4fa4e9d",
   "metadata": {},
   "outputs": [],
   "source": []
  },
  {
   "cell_type": "code",
   "execution_count": null,
   "id": "dfbfa1fe-fb1b-48bb-b31b-4d19c518e33b",
   "metadata": {},
   "outputs": [],
   "source": []
  },
  {
   "cell_type": "code",
   "execution_count": null,
   "id": "51154e0a-2211-4ff6-83ef-a64be42d3029",
   "metadata": {},
   "outputs": [],
   "source": []
  },
  {
   "cell_type": "markdown",
   "id": "2e31c353-c7fc-48b4-aa07-4c2a30b63a4d",
   "metadata": {
    "tags": []
   },
   "source": [
    "# 4. Convert to ONNX"
   ]
  },
  {
   "cell_type": "code",
   "execution_count": null,
   "id": "26e7cba3-1021-458e-a660-6a0984e2de73",
   "metadata": {},
   "outputs": [],
   "source": []
  },
  {
   "cell_type": "code",
   "execution_count": null,
   "id": "f1f38aef-59f7-4267-9fbc-637b456b9890",
   "metadata": {},
   "outputs": [],
   "source": []
  },
  {
   "cell_type": "code",
   "execution_count": null,
   "id": "c52a3b39-75d6-4b08-a118-b479ed7b680c",
   "metadata": {},
   "outputs": [],
   "source": []
  },
  {
   "cell_type": "code",
   "execution_count": null,
   "id": "df33d762-c395-40f5-bc4d-5ab33c594ba3",
   "metadata": {},
   "outputs": [],
   "source": []
  },
  {
   "cell_type": "code",
   "execution_count": null,
   "id": "5c7a045e-52cd-4039-99aa-7c16ffcdca2a",
   "metadata": {},
   "outputs": [],
   "source": []
  },
  {
   "cell_type": "code",
   "execution_count": null,
   "id": "cf26e53e-8298-4d89-ae03-e4adbcbe9ce5",
   "metadata": {},
   "outputs": [],
   "source": []
  },
  {
   "cell_type": "code",
   "execution_count": null,
   "id": "8d2034a2-bb16-4c06-8931-7f4852dd1b65",
   "metadata": {},
   "outputs": [],
   "source": []
  },
  {
   "cell_type": "code",
   "execution_count": null,
   "id": "da61c24a-ad74-43f0-ab06-3d2011a64340",
   "metadata": {},
   "outputs": [],
   "source": []
  }
 ],
 "metadata": {
  "kernelspec": {
   "display_name": "Python 3 (ipykernel)",
   "language": "python",
   "name": "python3"
  },
  "language_info": {
   "codemirror_mode": {
    "name": "ipython",
    "version": 3
   },
   "file_extension": ".py",
   "mimetype": "text/x-python",
   "name": "python",
   "nbconvert_exporter": "python",
   "pygments_lexer": "ipython3",
   "version": "3.10.11"
  }
 },
 "nbformat": 4,
 "nbformat_minor": 5
}
